{
 "cells": [
  {
   "cell_type": "code",
   "execution_count": 2,
   "id": "55056ca2",
   "metadata": {},
   "outputs": [
    {
     "name": "stdout",
     "output_type": "stream",
     "text": [
      "Enter first name: Marwan\n",
      "Enter last name: Ashraf\n",
      "Ashraf Marwan\n"
     ]
    }
   ],
   "source": [
    "# Question 1\n",
    "fname = input(\"Enter first name: \")\n",
    "lname = input(\"Enter last name: \")\n",
    "print(lname + \" \" +fname)"
   ]
  },
  {
   "cell_type": "code",
   "execution_count": 3,
   "id": "dca9cb14",
   "metadata": {},
   "outputs": [
    {
     "name": "stdout",
     "output_type": "stream",
     "text": [
      "Enter an integer: 5\n",
      "615\n"
     ]
    }
   ],
   "source": [
    "# Question 2\n",
    "n = int(input(\"Enter an integer: \"))\n",
    "result = n + n*11 + n*111\n",
    "print(result)"
   ]
  },
  {
   "cell_type": "code",
   "execution_count": 5,
   "id": "315b12d0",
   "metadata": {},
   "outputs": [
    {
     "name": "stdout",
     "output_type": "stream",
     "text": [
      "Enter number: 31\n",
      "The entered number is odd.\n"
     ]
    }
   ],
   "source": [
    "# Question 3\n",
    "num = int(input(\"Enter number: \"))\n",
    "# Checking whether the entered number is even or odd\n",
    "if (num%2) == 0:\n",
    "     print(\"The entered number is even.\")\n",
    "else:\n",
    "     print(\"The entered number is odd.\")"
   ]
  },
  {
   "cell_type": "code",
   "execution_count": 6,
   "id": "19232ca9",
   "metadata": {},
   "outputs": [
    {
     "name": "stdout",
     "output_type": "stream",
     "text": [
      "2002 2009 2016 2023 2037 2044 2051 2058 2072 2079 2086 2093 2107 2114 2121 2128 2142 2149 2156 2163 2177 2184 2191 2198 2212 2219 2226 2233 2247 2254 2261 2268 2282 2289 2296 2303 2317 2324 2331 2338 2352 2359 2366 2373 2387 2394 2401 2408 2422 2429 2436 2443 2457 2464 2471 2478 2492 2499 2506 2513 2527 2534 2541 2548 2562 2569 2576 2583 2597 2604 2611 2618 2632 2639 2646 2653 2667 2674 2681 2688 2702 2709 2716 2723 2737 2744 2751 2758 2772 2779 2786 2793 2807 2814 2821 2828 2842 2849 2856 2863 2877 2884 2891 2898 2912 2919 2926 2933 2947 2954 2961 2968 2982 2989 2996 3003 3017 3024 3031 3038 3052 3059 3066 3073 3087 3094 3101 3108 3122 3129 3136 3143 3157 3164 3171 3178 3192 3199 "
     ]
    }
   ],
   "source": [
    "# Question 4\n",
    "for i in range(2000, 3201):\n",
    "    # Checking if the numbers in the previous range are divisble by 7 and not a multiple of 5\n",
    "    if i%7==0 and i%5 != 0:\n",
    "        print(i, end=\" \")"
   ]
  },
  {
   "cell_type": "code",
   "execution_count": 7,
   "id": "c53d7bbf",
   "metadata": {},
   "outputs": [
    {
     "name": "stdout",
     "output_type": "stream",
     "text": [
      "Enter a number: 8\n",
      "8! = 40320\n"
     ]
    }
   ],
   "source": [
    "# Question 5\n",
    "def factorial(num):\n",
    "    total = 1\n",
    "    for i in range(1,n+1):\n",
    "        total = total * i\n",
    "    return total\n",
    "\n",
    "#The factorial function multiplies all whole numbers from our chosen number down to 1\n",
    "\n",
    "n = int(input(\"Enter a number: \"))\n",
    "fac = factorial(n)\n",
    "print(\"%d! = %d\" %(n,fac))"
   ]
  },
  {
   "cell_type": "code",
   "execution_count": 8,
   "id": "02c74c5d",
   "metadata": {},
   "outputs": [
    {
     "name": "stdout",
     "output_type": "stream",
     "text": [
      "hlota\n"
     ]
    }
   ],
   "source": [
    "# Question 6 \n",
    "def remove_odds(my_str):\n",
    "    result = \"\"\n",
    "    for i in range(len(my_str)):\n",
    "        if i % 2 == 0:\n",
    "         result = result + my_str[i]\n",
    "    return result\n",
    "# The \"remove_odds\" function removes the characters which have odd index values of a given string\n",
    "print(remove_odds(\"hello team\"))"
   ]
  },
  {
   "cell_type": "code",
   "execution_count": 9,
   "id": "b2b767e3",
   "metadata": {},
   "outputs": [
    {
     "name": "stdout",
     "output_type": "stream",
     "text": [
      "Enter sale amount: 221\n",
      "Discount : 66.30\n",
      "Net Pay : 154.70\n"
     ]
    }
   ],
   "source": [
    "# Question 7 \n",
    "price = int(input(\"Enter sale amount: \"))\n",
    "discount = 1\n",
    "# Checking the discount by the price\n",
    "if price >= 500:\n",
    "    discount = price*0.5\n",
    "elif price>=200 and price <500:\n",
    "    discount = price*0.3\n",
    "elif price<200:\n",
    "    discountcount = price*0.1\n",
    "# Displaying the discount value and the net pay after the discount\n",
    "print(\"Discount : %.2f\" % discount)\n",
    "print(\"Net Pay : %.2f\" % (price - discount))"
   ]
  }
 ],
 "metadata": {
  "kernelspec": {
   "display_name": "Python 3 (ipykernel)",
   "language": "python",
   "name": "python3"
  },
  "language_info": {
   "codemirror_mode": {
    "name": "ipython",
    "version": 3
   },
   "file_extension": ".py",
   "mimetype": "text/x-python",
   "name": "python",
   "nbconvert_exporter": "python",
   "pygments_lexer": "ipython3",
   "version": "3.9.12"
  }
 },
 "nbformat": 4,
 "nbformat_minor": 5
}
